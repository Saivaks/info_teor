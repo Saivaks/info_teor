{
 "cells": [
  {
   "cell_type": "code",
   "execution_count": 8,
   "id": "d38f45a5",
   "metadata": {},
   "outputs": [],
   "source": [
    "from dahuffman import HuffmanCodec"
   ]
  },
  {
   "cell_type": "code",
   "execution_count": 9,
   "id": "0351defd",
   "metadata": {},
   "outputs": [],
   "source": [
    "numb = ['0', '1', '2', '3', '4', '5', '6', '7', '8', '9']\n",
    "codec = HuffmanCodec.from_data(numb)"
   ]
  },
  {
   "cell_type": "code",
   "execution_count": 10,
   "id": "4c5cc0d8",
   "metadata": {},
   "outputs": [],
   "source": [
    "def cod(st_list):\n",
    "    encoded = codec.encode(st_list)\n",
    "    return encoded"
   ]
  },
  {
   "cell_type": "code",
   "execution_count": 11,
   "id": "750a1fe2",
   "metadata": {},
   "outputs": [],
   "source": [
    "def decod(st):\n",
    "    list_st = codec.decode(st)\n",
    "    return list_st"
   ]
  },
  {
   "cell_type": "code",
   "execution_count": null,
   "id": "03ba5069",
   "metadata": {},
   "outputs": [],
   "source": []
  },
  {
   "cell_type": "code",
   "execution_count": null,
   "id": "1b4b18a8",
   "metadata": {},
   "outputs": [],
   "source": []
  }
 ],
 "metadata": {
  "kernelspec": {
   "display_name": "Python 3 (ipykernel)",
   "language": "python",
   "name": "python3"
  },
  "language_info": {
   "codemirror_mode": {
    "name": "ipython",
    "version": 3
   },
   "file_extension": ".py",
   "mimetype": "text/x-python",
   "name": "python",
   "nbconvert_exporter": "python",
   "pygments_lexer": "ipython3",
   "version": "3.10.11"
  }
 },
 "nbformat": 4,
 "nbformat_minor": 5
}
